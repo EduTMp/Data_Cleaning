{
 "cells": [
  {
   "cell_type": "code",
   "execution_count": 6,
   "id": "9017d12d",
   "metadata": {},
   "outputs": [
    {
     "data": {
      "text/plain": [
       "float"
      ]
     },
     "execution_count": 6,
     "metadata": {},
     "output_type": "execute_result"
    }
   ],
   "source": [
    "import pandas as pd\n",
    "_a=2\n",
    "type(_a)\n",
    "float_a=1.25\n",
    "type(float_a)"
   ]
  },
  {
   "cell_type": "code",
   "execution_count": 4,
   "id": "a312808a",
   "metadata": {},
   "outputs": [
    {
     "name": "stdout",
     "output_type": "stream",
     "text": [
      "True\n"
     ]
    }
   ],
   "source": [
    "print(10>9)"
   ]
  },
  {
   "cell_type": "code",
   "execution_count": 2,
   "id": "2b7380c6",
   "metadata": {},
   "outputs": [
    {
     "name": "stdout",
     "output_type": "stream",
     "text": [
      "40 euros\n",
      "40 usd\n",
      "40 ksh\n",
      "['Yuting', 'John', 'Karina', 'Rahul']\n",
      "['Francis', 'Erick', 'Kazola', 'Manu']\n",
      "[1, 2, 3]\n",
      "['a', 1.25, 'b', 'True']\n",
      "[['Yuting', 'John', 'Karina', 'Rahul'], ['Francis', 'Erick', 'Kazola', 'Manu'], 'a', 1.23, True]\n",
      "['Yuting', 'John', 'Karina', 'Rahul', 'Francis', 'Erick', 'Kazola', 'Manu', 1, 2, 3]\n"
     ]
    }
   ],
   "source": [
    "number = 40\n",
    "print(str(number), \"euros\")\n",
    "print(str(number), \"usd\")\n",
    "print(str(number), \"ksh\")\n",
    "list_a = ['Yuting','John','Karina','Rahul']\n",
    "list_b = ['Francis','Erick','Kazola','Manu']\n",
    "print(list_a)\n",
    "print(list_b)\n",
    "list_a[2]\n",
    "list_b[3]\n",
    "list_a[-3]\n",
    "list_c = [1,2,3]\n",
    "list_d = ['a',1.25,'b','True']\n",
    "print(list_c)\n",
    "print(list_d)\n",
    "list_e = [list_a, list_b, 'a', 1.23, True]\n",
    "print(list_e)\n",
    "list_f = list_a+list_b+list_c\n",
    "print(list_f)"
   ]
  },
  {
   "cell_type": "code",
   "execution_count": 18,
   "id": "c597a27c",
   "metadata": {},
   "outputs": [
    {
     "name": "stdout",
     "output_type": "stream",
     "text": [
      "['Yuting', 'Rossie', 'Rossie', 'Kamau', 'Kamau', 'Kamau', 'Rossie']\n"
     ]
    }
   ],
   "source": [
    "list_a.sort()\n",
    "list_b.sort()\n",
    "\n",
    "list_a.sort(reverse=True)\n",
    "\n",
    "list_a.append('Rossie')\n",
    "\n",
    "list_a[1]='Rossie'\n",
    "\n",
    "del list_a[3]\n",
    "print(list_a)\n",
    "list_a.append('Kamau')"
   ]
  },
  {
   "cell_type": "code",
   "execution_count": 45,
   "id": "790a835d",
   "metadata": {},
   "outputs": [
    {
     "name": "stdout",
     "output_type": "stream",
     "text": [
      "['John', 'Max', 'Elvis', 'Lewis']\n"
     ]
    }
   ],
   "source": [
    "list_a=['John','Max','Elvis','Lewis']\n",
    "print(list_a)"
   ]
  },
  {
   "cell_type": "code",
   "execution_count": 74,
   "id": "c865ac65",
   "metadata": {},
   "outputs": [
    {
     "name": "stdout",
     "output_type": "stream",
     "text": [
      "['Max']\n",
      "['Max', 'Edwin']\n",
      "['Max', 'Edwin']\n"
     ]
    }
   ],
   "source": [
    "list_a.sort(reverse=True)\n",
    "print(list_a)\n",
    "list_a.append('Edwin')\n",
    "print(list_a)\n",
    "list_a[-1]='Edwin'\n",
    "print(list_a)"
   ]
  },
  {
   "cell_type": "code",
   "execution_count": 53,
   "id": "afb58d31",
   "metadata": {},
   "outputs": [
    {
     "name": "stdout",
     "output_type": "stream",
     "text": [
      "['Max', 'John', 'Elvis', 'Edwin', 'Edwin', 'Edwin', 'Edwin', 'Edwin']\n"
     ]
    }
   ],
   "source": [
    "print(list_a)"
   ]
  },
  {
   "cell_type": "code",
   "execution_count": 75,
   "id": "90ec19a0",
   "metadata": {
    "scrolled": false
   },
   "outputs": [
    {
     "name": "stdout",
     "output_type": "stream",
     "text": [
      "['Max', 'Edwin']\n"
     ]
    }
   ],
   "source": [
    "print(list_a)"
   ]
  },
  {
   "cell_type": "code",
   "execution_count": 78,
   "id": "fb273644",
   "metadata": {},
   "outputs": [
    {
     "name": "stdout",
     "output_type": "stream",
     "text": [
      "['Erick', 'Rosie']\n",
      "['Erick', 'Rosie', 'Rosie']\n"
     ]
    }
   ],
   "source": [
    "print(list_b)\n",
    "list_b.append('Rosie')\n",
    "print(list_b)"
   ]
  },
  {
   "cell_type": "code",
   "execution_count": 79,
   "id": "3fdf817d",
   "metadata": {},
   "outputs": [
    {
     "name": "stdout",
     "output_type": "stream",
     "text": [
      "['Erick', 'Rosie', 'Rosie']\n"
     ]
    }
   ],
   "source": [
    "print(list_b)"
   ]
  },
  {
   "cell_type": "code",
   "execution_count": 30,
   "id": "ce33aa9a",
   "metadata": {},
   "outputs": [
    {
     "ename": "TypeError",
     "evalue": "'list' object is not callable",
     "output_type": "error",
     "traceback": [
      "\u001b[1;31m---------------------------------------------------------------------------\u001b[0m",
      "\u001b[1;31mTypeError\u001b[0m                                 Traceback (most recent call last)",
      "Cell \u001b[1;32mIn[30], line 2\u001b[0m\n\u001b[0;32m      1\u001b[0m list_b\u001b[38;5;241m.\u001b[39mappend(\u001b[38;5;124m'\u001b[39m\u001b[38;5;124mKam\u001b[39m\u001b[38;5;124m'\u001b[39m)\n\u001b[1;32m----> 2\u001b[0m \u001b[43mlist_b\u001b[49m\u001b[43m(\u001b[49m\u001b[38;5;241;43m2\u001b[39;49m\u001b[43m)\u001b[49m \u001b[38;5;241m==\u001b[39m \u001b[38;5;28mstr\u001b[39m(\u001b[38;5;124m'\u001b[39m\u001b[38;5;124mErick\u001b[39m\u001b[38;5;124m'\u001b[39m)\n",
      "\u001b[1;31mTypeError\u001b[0m: 'list' object is not callable"
     ]
    }
   ],
   "source": [
    "\n",
    "list_b.append('Kam')\n",
    "list_b(2) = str('Erick')"
   ]
  },
  {
   "cell_type": "code",
   "execution_count": 102,
   "id": "ebe1e36c",
   "metadata": {},
   "outputs": [
    {
     "data": {
      "text/plain": [
       "['a', 'b', 'True']"
      ]
     },
     "execution_count": 102,
     "metadata": {},
     "output_type": "execute_result"
    }
   ],
   "source": [
    "\n",
    "list_d"
   ]
  },
  {
   "cell_type": "code",
   "execution_count": 104,
   "id": "88b33cf5",
   "metadata": {},
   "outputs": [
    {
     "data": {
      "text/plain": [
       "['a', 'b', 'True']"
      ]
     },
     "execution_count": 104,
     "metadata": {},
     "output_type": "execute_result"
    }
   ],
   "source": [
    "list_d\n",
    "\n",
    "list_d\n",
    "\n",
    "list_d"
   ]
  },
  {
   "cell_type": "markdown",
   "id": "a00ecc35",
   "metadata": {},
   "source": [
    "#Tuples"
   ]
  },
  {
   "cell_type": "code",
   "execution_count": 108,
   "id": "17a26b2c",
   "metadata": {},
   "outputs": [
    {
     "data": {
      "text/plain": [
       "('a', 'b', 'c')"
      ]
     },
     "execution_count": 108,
     "metadata": {},
     "output_type": "execute_result"
    }
   ],
   "source": [
    "turple_a = (1,2,3)\n",
    "turple_a\n",
    "turple_b = ('a','b','c')\n",
    "turple_b"
   ]
  },
  {
   "cell_type": "code",
   "execution_count": 110,
   "id": "e145cd86",
   "metadata": {},
   "outputs": [
    {
     "data": {
      "text/plain": [
       "(['a', 'b', 'True'], [5], (1, 2, 3))"
      ]
     },
     "execution_count": 110,
     "metadata": {},
     "output_type": "execute_result"
    }
   ],
   "source": [
    "turple_c = list_d,list_c,turple_a\n",
    "turple_c"
   ]
  },
  {
   "cell_type": "code",
   "execution_count": 112,
   "id": "cd577589",
   "metadata": {},
   "outputs": [
    {
     "data": {
      "text/plain": [
       "(1, 2, 3, 'a', 'b', 'c')"
      ]
     },
     "execution_count": 112,
     "metadata": {},
     "output_type": "execute_result"
    }
   ],
   "source": [
    "turple_d = turple_a+turple_b\n",
    "turple_d"
   ]
  },
  {
   "cell_type": "markdown",
   "id": "ce249bd9",
   "metadata": {},
   "source": [
    "Dictionaries"
   ]
  },
  {
   "cell_type": "code",
   "execution_count": 120,
   "id": "a48512ae",
   "metadata": {},
   "outputs": [
    {
     "data": {
      "text/plain": [
       "'Edwin'"
      ]
     },
     "execution_count": 120,
     "metadata": {},
     "output_type": "execute_result"
    }
   ],
   "source": [
    "dict_a = {'first_name': 'Edwin', 'last_name': 'Mugo','age':25}\n",
    "dict_a['first_name']\n"
   ]
  },
  {
   "cell_type": "code",
   "execution_count": 129,
   "id": "3d7c8660",
   "metadata": {},
   "outputs": [
    {
     "name": "stdout",
     "output_type": "stream",
     "text": [
      "['store_A', 'store_B', 'store_c', 'store_d', 'store_e']\n",
      "[100, 200, 300, 400, 500, 600]\n"
     ]
    },
    {
     "data": {
      "text/plain": [
       "{'store': ['store_A', 'store_B', 'store_c', 'store_d', 'store_e'],\n",
       " 'sales': [100, 200, 300, 400, 500, 600]}"
      ]
     },
     "execution_count": 129,
     "metadata": {},
     "output_type": "execute_result"
    }
   ],
   "source": [
    "store = ['store_A','store_B','store_c','store_d','store_e']\n",
    "sales = [100, 200, 300, 400, 500, 600]\n",
    "print(store)\n",
    "print(sales)\n",
    "dict_sales ={'store':store,'sales':sales}\n",
    "dict_sales"
   ]
  },
  {
   "cell_type": "code",
   "execution_count": 131,
   "id": "939c28c9",
   "metadata": {},
   "outputs": [
    {
     "data": {
      "text/plain": [
       "dict_items([('store', ['store_A', 'store_B', 'store_c', 'store_d', 'store_e']), ('sales', [100, 200, 300, 400, 500, 600])])"
      ]
     },
     "execution_count": 131,
     "metadata": {},
     "output_type": "execute_result"
    }
   ],
   "source": [
    "dict_sales.items()"
   ]
  },
  {
   "cell_type": "code",
   "execution_count": 140,
   "id": "91c7f200",
   "metadata": {},
   "outputs": [
    {
     "data": {
      "text/plain": [
       "1"
      ]
     },
     "execution_count": 140,
     "metadata": {},
     "output_type": "execute_result"
    }
   ],
   "source": [
    "10%3"
   ]
  },
  {
   "cell_type": "code",
   "execution_count": 144,
   "id": "2d19734f",
   "metadata": {},
   "outputs": [
    {
     "data": {
      "text/plain": [
       "32"
      ]
     },
     "execution_count": 144,
     "metadata": {},
     "output_type": "execute_result"
    }
   ],
   "source": [
    "2**5"
   ]
  },
  {
   "cell_type": "markdown",
   "id": "1211b3e2",
   "metadata": {},
   "source": [
    "Logical Operators"
   ]
  },
  {
   "cell_type": "code",
   "execution_count": 147,
   "id": "eab2269a",
   "metadata": {},
   "outputs": [
    {
     "data": {
      "text/plain": [
       "False"
      ]
     },
     "execution_count": 147,
     "metadata": {},
     "output_type": "execute_result"
    }
   ],
   "source": [
    "#And\n",
    "x=0\n",
    "x>1 and x>3"
   ]
  },
  {
   "cell_type": "markdown",
   "id": "3bed7363",
   "metadata": {},
   "source": [
    "Packages"
   ]
  },
  {
   "cell_type": "code",
   "execution_count": 150,
   "id": "d8db1157",
   "metadata": {},
   "outputs": [],
   "source": [
    "import math"
   ]
  },
  {
   "cell_type": "code",
   "execution_count": 153,
   "id": "9625c77c",
   "metadata": {},
   "outputs": [
    {
     "data": {
      "text/plain": [
       "9.0"
      ]
     },
     "execution_count": 153,
     "metadata": {},
     "output_type": "execute_result"
    }
   ],
   "source": [
    "math.sqrt(100)\n",
    "import math as mkt\n",
    "mkt.sqrt(81)"
   ]
  },
  {
   "cell_type": "code",
   "execution_count": 155,
   "id": "59dbc0fa",
   "metadata": {},
   "outputs": [
    {
     "data": {
      "text/plain": [
       "10.0"
      ]
     },
     "execution_count": 155,
     "metadata": {},
     "output_type": "execute_result"
    }
   ],
   "source": [
    "from math import sqrt\n",
    "sqrt(100)"
   ]
  },
  {
   "cell_type": "code",
   "execution_count": 157,
   "id": "4b915bc1",
   "metadata": {},
   "outputs": [
    {
     "name": "stdout",
     "output_type": "stream",
     "text": [
      "Help on built-in module math:\n",
      "\n",
      "NAME\n",
      "    math\n",
      "\n",
      "DESCRIPTION\n",
      "    This module provides access to the mathematical functions\n",
      "    defined by the C standard.\n",
      "\n",
      "FUNCTIONS\n",
      "    acos(x, /)\n",
      "        Return the arc cosine (measured in radians) of x.\n",
      "        \n",
      "        The result is between 0 and pi.\n",
      "    \n",
      "    acosh(x, /)\n",
      "        Return the inverse hyperbolic cosine of x.\n",
      "    \n",
      "    asin(x, /)\n",
      "        Return the arc sine (measured in radians) of x.\n",
      "        \n",
      "        The result is between -pi/2 and pi/2.\n",
      "    \n",
      "    asinh(x, /)\n",
      "        Return the inverse hyperbolic sine of x.\n",
      "    \n",
      "    atan(x, /)\n",
      "        Return the arc tangent (measured in radians) of x.\n",
      "        \n",
      "        The result is between -pi/2 and pi/2.\n",
      "    \n",
      "    atan2(y, x, /)\n",
      "        Return the arc tangent (measured in radians) of y/x.\n",
      "        \n",
      "        Unlike atan(y/x), the signs of both x and y are considered.\n",
      "    \n",
      "    atanh(x, /)\n",
      "        Return the inverse hyperbolic tangent of x.\n",
      "    \n",
      "    ceil(x, /)\n",
      "        Return the ceiling of x as an Integral.\n",
      "        \n",
      "        This is the smallest integer >= x.\n",
      "    \n",
      "    comb(n, k, /)\n",
      "        Number of ways to choose k items from n items without repetition and without order.\n",
      "        \n",
      "        Evaluates to n! / (k! * (n - k)!) when k <= n and evaluates\n",
      "        to zero when k > n.\n",
      "        \n",
      "        Also called the binomial coefficient because it is equivalent\n",
      "        to the coefficient of k-th term in polynomial expansion of the\n",
      "        expression (1 + x)**n.\n",
      "        \n",
      "        Raises TypeError if either of the arguments are not integers.\n",
      "        Raises ValueError if either of the arguments are negative.\n",
      "    \n",
      "    copysign(x, y, /)\n",
      "        Return a float with the magnitude (absolute value) of x but the sign of y.\n",
      "        \n",
      "        On platforms that support signed zeros, copysign(1.0, -0.0)\n",
      "        returns -1.0.\n",
      "    \n",
      "    cos(x, /)\n",
      "        Return the cosine of x (measured in radians).\n",
      "    \n",
      "    cosh(x, /)\n",
      "        Return the hyperbolic cosine of x.\n",
      "    \n",
      "    degrees(x, /)\n",
      "        Convert angle x from radians to degrees.\n",
      "    \n",
      "    dist(p, q, /)\n",
      "        Return the Euclidean distance between two points p and q.\n",
      "        \n",
      "        The points should be specified as sequences (or iterables) of\n",
      "        coordinates.  Both inputs must have the same dimension.\n",
      "        \n",
      "        Roughly equivalent to:\n",
      "            sqrt(sum((px - qx) ** 2.0 for px, qx in zip(p, q)))\n",
      "    \n",
      "    erf(x, /)\n",
      "        Error function at x.\n",
      "    \n",
      "    erfc(x, /)\n",
      "        Complementary error function at x.\n",
      "    \n",
      "    exp(x, /)\n",
      "        Return e raised to the power of x.\n",
      "    \n",
      "    expm1(x, /)\n",
      "        Return exp(x)-1.\n",
      "        \n",
      "        This function avoids the loss of precision involved in the direct evaluation of exp(x)-1 for small x.\n",
      "    \n",
      "    fabs(x, /)\n",
      "        Return the absolute value of the float x.\n",
      "    \n",
      "    factorial(x, /)\n",
      "        Find x!.\n",
      "        \n",
      "        Raise a ValueError if x is negative or non-integral.\n",
      "    \n",
      "    floor(x, /)\n",
      "        Return the floor of x as an Integral.\n",
      "        \n",
      "        This is the largest integer <= x.\n",
      "    \n",
      "    fmod(x, y, /)\n",
      "        Return fmod(x, y), according to platform C.\n",
      "        \n",
      "        x % y may differ.\n",
      "    \n",
      "    frexp(x, /)\n",
      "        Return the mantissa and exponent of x, as pair (m, e).\n",
      "        \n",
      "        m is a float and e is an int, such that x = m * 2.**e.\n",
      "        If x is 0, m and e are both 0.  Else 0.5 <= abs(m) < 1.0.\n",
      "    \n",
      "    fsum(seq, /)\n",
      "        Return an accurate floating point sum of values in the iterable seq.\n",
      "        \n",
      "        Assumes IEEE-754 floating point arithmetic.\n",
      "    \n",
      "    gamma(x, /)\n",
      "        Gamma function at x.\n",
      "    \n",
      "    gcd(*integers)\n",
      "        Greatest Common Divisor.\n",
      "    \n",
      "    hypot(...)\n",
      "        hypot(*coordinates) -> value\n",
      "        \n",
      "        Multidimensional Euclidean distance from the origin to a point.\n",
      "        \n",
      "        Roughly equivalent to:\n",
      "            sqrt(sum(x**2 for x in coordinates))\n",
      "        \n",
      "        For a two dimensional point (x, y), gives the hypotenuse\n",
      "        using the Pythagorean theorem:  sqrt(x*x + y*y).\n",
      "        \n",
      "        For example, the hypotenuse of a 3/4/5 right triangle is:\n",
      "        \n",
      "            >>> hypot(3.0, 4.0)\n",
      "            5.0\n",
      "    \n",
      "    isclose(a, b, *, rel_tol=1e-09, abs_tol=0.0)\n",
      "        Determine whether two floating point numbers are close in value.\n",
      "        \n",
      "          rel_tol\n",
      "            maximum difference for being considered \"close\", relative to the\n",
      "            magnitude of the input values\n",
      "          abs_tol\n",
      "            maximum difference for being considered \"close\", regardless of the\n",
      "            magnitude of the input values\n",
      "        \n",
      "        Return True if a is close in value to b, and False otherwise.\n",
      "        \n",
      "        For the values to be considered close, the difference between them\n",
      "        must be smaller than at least one of the tolerances.\n",
      "        \n",
      "        -inf, inf and NaN behave similarly to the IEEE 754 Standard.  That\n",
      "        is, NaN is not close to anything, even itself.  inf and -inf are\n",
      "        only close to themselves.\n",
      "    \n",
      "    isfinite(x, /)\n",
      "        Return True if x is neither an infinity nor a NaN, and False otherwise.\n",
      "    \n",
      "    isinf(x, /)\n",
      "        Return True if x is a positive or negative infinity, and False otherwise.\n",
      "    \n",
      "    isnan(x, /)\n",
      "        Return True if x is a NaN (not a number), and False otherwise.\n",
      "    \n",
      "    isqrt(n, /)\n",
      "        Return the integer part of the square root of the input.\n",
      "    \n",
      "    lcm(*integers)\n",
      "        Least Common Multiple.\n",
      "    \n",
      "    ldexp(x, i, /)\n",
      "        Return x * (2**i).\n",
      "        \n",
      "        This is essentially the inverse of frexp().\n",
      "    \n",
      "    lgamma(x, /)\n",
      "        Natural logarithm of absolute value of Gamma function at x.\n",
      "    \n",
      "    log(...)\n",
      "        log(x, [base=math.e])\n",
      "        Return the logarithm of x to the given base.\n",
      "        \n",
      "        If the base not specified, returns the natural logarithm (base e) of x.\n",
      "    \n",
      "    log10(x, /)\n",
      "        Return the base 10 logarithm of x.\n",
      "    \n",
      "    log1p(x, /)\n",
      "        Return the natural logarithm of 1+x (base e).\n",
      "        \n",
      "        The result is computed in a way which is accurate for x near zero.\n",
      "    \n",
      "    log2(x, /)\n",
      "        Return the base 2 logarithm of x.\n",
      "    \n",
      "    modf(x, /)\n",
      "        Return the fractional and integer parts of x.\n",
      "        \n",
      "        Both results carry the sign of x and are floats.\n",
      "    \n",
      "    nextafter(x, y, /)\n",
      "        Return the next floating-point value after x towards y.\n",
      "    \n",
      "    perm(n, k=None, /)\n",
      "        Number of ways to choose k items from n items without repetition and with order.\n",
      "        \n",
      "        Evaluates to n! / (n - k)! when k <= n and evaluates\n",
      "        to zero when k > n.\n",
      "        \n",
      "        If k is not specified or is None, then k defaults to n\n",
      "        and the function returns n!.\n",
      "        \n",
      "        Raises TypeError if either of the arguments are not integers.\n",
      "        Raises ValueError if either of the arguments are negative.\n",
      "    \n",
      "    pow(x, y, /)\n",
      "        Return x**y (x to the power of y).\n",
      "    \n",
      "    prod(iterable, /, *, start=1)\n",
      "        Calculate the product of all the elements in the input iterable.\n",
      "        \n",
      "        The default start value for the product is 1.\n",
      "        \n",
      "        When the iterable is empty, return the start value.  This function is\n",
      "        intended specifically for use with numeric values and may reject\n",
      "        non-numeric types.\n",
      "    \n",
      "    radians(x, /)\n",
      "        Convert angle x from degrees to radians.\n",
      "    \n",
      "    remainder(x, y, /)\n",
      "        Difference between x and the closest integer multiple of y.\n",
      "        \n",
      "        Return x - n*y where n*y is the closest integer multiple of y.\n",
      "        In the case where x is exactly halfway between two multiples of\n",
      "        y, the nearest even value of n is used. The result is always exact.\n",
      "    \n",
      "    sin(x, /)\n",
      "        Return the sine of x (measured in radians).\n",
      "    \n",
      "    sinh(x, /)\n",
      "        Return the hyperbolic sine of x.\n",
      "    \n",
      "    sqrt(x, /)\n",
      "        Return the square root of x.\n",
      "    \n",
      "    tan(x, /)\n",
      "        Return the tangent of x (measured in radians).\n",
      "    \n",
      "    tanh(x, /)\n",
      "        Return the hyperbolic tangent of x.\n",
      "    \n",
      "    trunc(x, /)\n",
      "        Truncates the Real x to the nearest Integral toward 0.\n",
      "        \n",
      "        Uses the __trunc__ magic method.\n",
      "    \n",
      "    ulp(x, /)\n",
      "        Return the value of the least significant bit of the float x.\n",
      "\n",
      "DATA\n",
      "    e = 2.718281828459045\n",
      "    inf = inf\n",
      "    nan = nan\n",
      "    pi = 3.141592653589793\n",
      "    tau = 6.283185307179586\n",
      "\n",
      "FILE\n",
      "    (built-in)\n",
      "\n",
      "\n"
     ]
    }
   ],
   "source": [
    "help(math)"
   ]
  },
  {
   "cell_type": "code",
   "execution_count": 11,
   "id": "708fe2a4",
   "metadata": {},
   "outputs": [
    {
     "name": "stdout",
     "output_type": "stream",
     "text": [
      "low\n"
     ]
    }
   ],
   "source": [
    "x = 3\n",
    "if x<2:\n",
    "    print('LGBTQ')\n",
    "customer_01 = 10\n",
    "if customer_01 > 15:\n",
    "    print('high')\n",
    "else:\n",
    "    print('low')"
   ]
  },
  {
   "cell_type": "code",
   "execution_count": 17,
   "id": "17aa21bc",
   "metadata": {},
   "outputs": [
    {
     "name": "stdout",
     "output_type": "stream",
     "text": [
      "Low\n",
      "Medium\n",
      "High\n"
     ]
    }
   ],
   "source": [
    "customer_a = 5\n",
    "customer_b = 10\n",
    "customer_c = 15\n",
    "\n",
    "#customer_a\n",
    "if customer_a > 10:\n",
    "    print('High')\n",
    "elif customer_a < 10:\n",
    "    print('Low')\n",
    "else:\n",
    "    print('Medium')\n",
    "    \n",
    "    \n",
    "#customer_b\n",
    "if customer_b > 10:\n",
    "    print('High')\n",
    "elif customer_b < 10:\n",
    "    print('Low')\n",
    "else:\n",
    "    print('Medium')\n",
    "    \n",
    "#customer_c\n",
    "if customer_c > 10:\n",
    "    print('High')\n",
    "elif customer_c < 10:\n",
    "    print('Low')\n",
    "else:\n",
    "    print('Medium')\n",
    "    "
   ]
  },
  {
   "cell_type": "code",
   "execution_count": 26,
   "id": "fe1be331",
   "metadata": {},
   "outputs": [
    {
     "name": "stdout",
     "output_type": "stream",
     "text": [
      "Low\n",
      "Medium\n",
      "High\n"
     ]
    }
   ],
   "source": [
    "customer_list = [5,10,15]\n",
    "\n",
    "for i_customer in customer_list:\n",
    "    if i_customer > 10:\n",
    "        print('High')\n",
    "    elif i_customer < 10:\n",
    "         print('Low')\n",
    "    else:\n",
    "         print('Medium')\n",
    "    \n"
   ]
  },
  {
   "cell_type": "code",
   "execution_count": 35,
   "id": "b3221af5",
   "metadata": {},
   "outputs": [
    {
     "name": "stdout",
     "output_type": "stream",
     "text": [
      "John\n",
      "100\n",
      "200\n",
      "300\n",
      "400\n",
      "Mary\n",
      "['Oraimo', 'Samsung', 'Tecno', 'Vivo']\n",
      "['Oraimo1', 'Viva', 'JBL', 'Sony']\n",
      "['Robot', 'Bluetooth headset']\n",
      "[2021, 2022, 2023]\n"
     ]
    }
   ],
   "source": [
    "turple1 = ('John',100,200,300,400,'Mary')\n",
    "for i in turple1:\n",
    "    print(i)\n",
    "#dictionary\n",
    "electronics_dict = {\n",
    "    \"Brand\":['Oraimo','Samsung','Tecno','Vivo'],\n",
    "    \"Earphones\":['Oraimo1','Viva','JBL','Sony'],\n",
    "    \"Speaker\":['Robot','Bluetooth headset'],\n",
    "    \"Year\":[2021,2022,2023]}\n",
    "for i_key in electronics_dict:\n",
    "    print(electronics_dict[i_key])"
   ]
  },
  {
   "cell_type": "code",
   "execution_count": 37,
   "id": "5023f6b1",
   "metadata": {},
   "outputs": [
    {
     "data": {
      "text/plain": [
       "dict_items([('Brand', ['Oraimo', 'Samsung', 'Tecno', 'Vivo']), ('Earphones', ['Oraimo1', 'Viva', 'JBL', 'Sony']), ('Speaker', ['Robot', 'Bluetooth headset']), ('Year', [2021, 2022, 2023])])"
      ]
     },
     "execution_count": 37,
     "metadata": {},
     "output_type": "execute_result"
    }
   ],
   "source": [
    "electronics_dict.items()"
   ]
  },
  {
   "cell_type": "code",
   "execution_count": 44,
   "id": "23959dd9",
   "metadata": {},
   "outputs": [
    {
     "name": "stdout",
     "output_type": "stream",
     "text": [
      "This is the Brand,These are the values: ['Oraimo', 'Samsung', 'Tecno', 'Vivo']\n",
      "This is the Earphones,These are the values: ['Oraimo1', 'Viva', 'JBL', 'Sony']\n",
      "This is the Speaker,These are the values: ['Robot', 'Bluetooth headset']\n",
      "This is the Year,These are the values: [2021, 2022, 2023]\n"
     ]
    }
   ],
   "source": [
    "for i_key, j_values in electronics_dict.items():\n",
    "    print('This is the' +\" \"+ i_key +\",\"+ \"These are the values:\",j_values)"
   ]
  },
  {
   "cell_type": "code",
   "execution_count": 47,
   "id": "84657cc1",
   "metadata": {},
   "outputs": [
    {
     "name": "stdout",
     "output_type": "stream",
     "text": [
      "[2021, 2022, 2023]\n",
      "[2021, 2022, 2023]\n",
      "[2021, 2022, 2023]\n",
      "[2021, 2022, 2023]\n",
      "[2021, 2022, 2023]\n",
      "[2021, 2022, 2023]\n",
      "[2021, 2022, 2023]\n",
      "[2021, 2022, 2023]\n",
      "[2021, 2022, 2023]\n",
      "[2021, 2022, 2023]\n",
      "[2021, 2022, 2023]\n",
      "[2021, 2022, 2023]\n",
      "[2021, 2022, 2023]\n"
     ]
    }
   ],
   "source": [
    "for i_key in electronics_dict:\n",
    "    for j_valuses in electronics_dict[i_key]:\n",
    "        print(j_values)\n",
    "    "
   ]
  }
 ],
 "metadata": {
  "kernelspec": {
   "display_name": "Python 3 (ipykernel)",
   "language": "python",
   "name": "python3"
  },
  "language_info": {
   "codemirror_mode": {
    "name": "ipython",
    "version": 3
   },
   "file_extension": ".py",
   "mimetype": "text/x-python",
   "name": "python",
   "nbconvert_exporter": "python",
   "pygments_lexer": "ipython3",
   "version": "3.10.9"
  }
 },
 "nbformat": 4,
 "nbformat_minor": 5
}
