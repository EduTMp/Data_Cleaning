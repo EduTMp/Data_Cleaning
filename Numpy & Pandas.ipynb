{
 "cells": [
  {
   "cell_type": "markdown",
   "id": "325b76bb",
   "metadata": {},
   "source": [
    "Numpy & Pandas Introduction"
   ]
  },
  {
   "cell_type": "code",
   "execution_count": 11,
   "id": "080586b3",
   "metadata": {},
   "outputs": [
    {
     "data": {
      "text/plain": [
       "array([[123],\n",
       "       [456]])"
      ]
     },
     "execution_count": 11,
     "metadata": {},
     "output_type": "execute_result"
    }
   ],
   "source": [
    "import numpy as np\n",
    "np.array([1,2,3])\n",
    "array_1 = np.array([[123],[456]])\n",
    "array_1"
   ]
  },
  {
   "cell_type": "code",
   "execution_count": 18,
   "id": "4b0a9373",
   "metadata": {},
   "outputs": [
    {
     "data": {
      "text/plain": [
       "array([['1', '2', '3'],\n",
       "       ['4', '5', '6'],\n",
       "       ['a', 'b', 'c']], dtype='<U11')"
      ]
     },
     "execution_count": 18,
     "metadata": {},
     "output_type": "execute_result"
    }
   ],
   "source": [
    "array_2 = np.array([[1,2,3],[4,5,6],['a','b','c']])\n",
    "array_2\n",
    "import numpy as np\n",
    "array_2"
   ]
  },
  {
   "cell_type": "markdown",
   "id": "3142ae54",
   "metadata": {},
   "source": [
    "Array.shape"
   ]
  },
  {
   "cell_type": "code",
   "execution_count": 19,
   "id": "e5f9b5cc",
   "metadata": {},
   "outputs": [
    {
     "data": {
      "text/plain": [
       "(3, 3)"
      ]
     },
     "execution_count": 19,
     "metadata": {},
     "output_type": "execute_result"
    }
   ],
   "source": [
    "array_2.shape"
   ]
  },
  {
   "cell_type": "code",
   "execution_count": 13,
   "id": "fac8ada1",
   "metadata": {},
   "outputs": [
    {
     "data": {
      "text/plain": [
       "array([[123],\n",
       "       [456]])"
      ]
     },
     "execution_count": 13,
     "metadata": {},
     "output_type": "execute_result"
    }
   ],
   "source": [
    "array_1"
   ]
  },
  {
   "cell_type": "code",
   "execution_count": 19,
   "id": "25e51909",
   "metadata": {},
   "outputs": [
    {
     "data": {
      "text/plain": [
       "array([[1, 2, 3],\n",
       "       [4, 5, 6],\n",
       "       [7, 8, 9]])"
      ]
     },
     "execution_count": 19,
     "metadata": {},
     "output_type": "execute_result"
    }
   ],
   "source": [
    "array_2 = np.array([[1,2,3],[4,5,6],[7,8,9]])\n",
    "array_2"
   ]
  },
  {
   "cell_type": "code",
   "execution_count": 22,
   "id": "c4d28889",
   "metadata": {},
   "outputs": [
    {
     "data": {
      "text/plain": [
       "3"
      ]
     },
     "execution_count": 22,
     "metadata": {},
     "output_type": "execute_result"
    }
   ],
   "source": [
    "array_2[0,2]"
   ]
  },
  {
   "cell_type": "code",
   "execution_count": 21,
   "id": "76801127",
   "metadata": {},
   "outputs": [
    {
     "name": "stdout",
     "output_type": "stream",
     "text": [
      "123\n",
      "456\n"
     ]
    }
   ],
   "source": [
    "print(array_1.min())\n",
    "print(array_1.max())"
   ]
  },
  {
   "cell_type": "markdown",
   "id": "80531cf6",
   "metadata": {},
   "source": [
    "Pandas"
   ]
  },
  {
   "cell_type": "code",
   "execution_count": 25,
   "id": "8ccf47c8",
   "metadata": {},
   "outputs": [],
   "source": [
    "import pandas as pd"
   ]
  },
  {
   "cell_type": "code",
   "execution_count": 30,
   "id": "cb3ebf34",
   "metadata": {},
   "outputs": [
    {
     "data": {
      "text/plain": [
       "a    12\n",
       "b    24\n",
       "c    36\n",
       "dtype: int64"
      ]
     },
     "execution_count": 30,
     "metadata": {},
     "output_type": "execute_result"
    }
   ],
   "source": [
    "markers = ['a','b','c']\n",
    "list_1 = [12,24,36]\n",
    "array_1 = np.array([15,30,45])\n",
    "dict_1 = {'d':20,'e':40,'f':60}\n",
    "pd.Series(data = list_1, index=markers)"
   ]
  },
  {
   "cell_type": "code",
   "execution_count": 32,
   "id": "18410bfb",
   "metadata": {},
   "outputs": [
    {
     "data": {
      "text/plain": [
       "d    20\n",
       "e    40\n",
       "f    60\n",
       "dtype: int64"
      ]
     },
     "execution_count": 32,
     "metadata": {},
     "output_type": "execute_result"
    }
   ],
   "source": [
    "pd.Series(dict_1)"
   ]
  },
  {
   "cell_type": "code",
   "execution_count": 34,
   "id": "a69d0d8f",
   "metadata": {},
   "outputs": [
    {
     "data": {
      "text/plain": [
       "magnets     300\n",
       "Snacks      550\n",
       "Handbags    240\n",
       "coasters    180\n",
       "dtype: int64"
      ]
     },
     "execution_count": 34,
     "metadata": {},
     "output_type": "execute_result"
    }
   ],
   "source": [
    "gift_shop_salesQ1 = pd.Series(data=[300,550,240,180],index = ['magnets',\n",
    "                                                             'Snacks',\n",
    "                                                             'Handbags',\n",
    "                                                             'coasters'])\n",
    "gift_shop_salesQ1"
   ]
  },
  {
   "cell_type": "code",
   "execution_count": 28,
   "id": "e87a4a38",
   "metadata": {},
   "outputs": [
    {
     "data": {
      "text/plain": [
       "magnets     480\n",
       "coasters    530\n",
       "Handbags    360\n",
       "Snacks       40\n",
       "dtype: int64"
      ]
     },
     "execution_count": 28,
     "metadata": {},
     "output_type": "execute_result"
    }
   ],
   "source": [
    "gift_shop_salesQ2 = pd.Series([480,530,360,40],index=['magnets',\n",
    "                                                    'coasters',\n",
    "                                                    'Handbags',\n",
    "                                                    'Snacks'])\n",
    "gift_shop_salesQ2"
   ]
  },
  {
   "cell_type": "code",
   "execution_count": 26,
   "id": "7cce00f7",
   "metadata": {},
   "outputs": [
    {
     "data": {
      "text/plain": [
       "magnets       40\n",
       "coasters     342\n",
       "Handbags     330\n",
       "postcards    200\n",
       "dtype: int64"
      ]
     },
     "execution_count": 26,
     "metadata": {},
     "output_type": "execute_result"
    }
   ],
   "source": [
    "gift_shop_salesQ3 = pd.Series([40,342,330,200],index=['magnets',\n",
    "                                                     'coasters',\n",
    "                                                     'Handbags',\n",
    "                                                     'postcards'])\n",
    "gift_shop_salesQ3"
   ]
  },
  {
   "cell_type": "code",
   "execution_count": 35,
   "id": "d15d15f0",
   "metadata": {},
   "outputs": [
    {
     "data": {
      "text/plain": [
       "Handbags    600\n",
       "Snacks      590\n",
       "coasters    710\n",
       "magnets     780\n",
       "dtype: int64"
      ]
     },
     "execution_count": 35,
     "metadata": {},
     "output_type": "execute_result"
    }
   ],
   "source": [
    "gift_shop_salesQ1+gift_shop_salesQ2"
   ]
  },
  {
   "cell_type": "code",
   "execution_count": 47,
   "id": "e30ec320",
   "metadata": {},
   "outputs": [
    {
     "data": {
      "text/plain": [
       "array([[ 1,  2,  3,  4,  5,  6,  7,  8,  9],\n",
       "       [ 4,  5,  6,  7,  8,  9, 10, 11, 12],\n",
       "       [ 4,  5,  6,  7,  8,  9, 10, 11, 12],\n",
       "       [ 6, 10, 11, 12, 13, 14, 15, 12, 16],\n",
       "       [ 2,  3,  2,  4,  2,  3,  6,  7,  8],\n",
       "       [ 1,  2,  3,  5,  6,  7,  8,  9, 10],\n",
       "       [ 2,  4,  3,  5,  6,  7,  8,  9,  8],\n",
       "       [ 1,  2,  3,  4,  5,  6,  7,  8,  9],\n",
       "       [ 1,  2,  3,  4,  5,  6,  7,  8,  9]])"
      ]
     },
     "execution_count": 47,
     "metadata": {},
     "output_type": "execute_result"
    }
   ],
   "source": [
    "frames = np.array([[1,2,3,4,5,6,7,8,9],[4,5,6,7,8,9,10,11,12],[4,5,6,7,8,9,10,11,12],\n",
    "                   [6,10,11,12,13,14,15,12,16],[2,3,2,4,2,3,6,7,8],[1,2,3,5,6,7,8,9,10],\n",
    "                   [2,4,3,5,6,7,8,9,8],[1,2,3,4,5,6,7,8,9],[1,2,3,4,5,6,7,8,9]])\n",
    "frames"
   ]
  },
  {
   "cell_type": "code",
   "execution_count": 50,
   "id": "c42edc48",
   "metadata": {},
   "outputs": [
    {
     "name": "stdout",
     "output_type": "stream",
     "text": [
      "accounting Department\n"
     ]
    },
    {
     "data": {
      "text/html": [
       "<div>\n",
       "<style scoped>\n",
       "    .dataframe tbody tr th:only-of-type {\n",
       "        vertical-align: middle;\n",
       "    }\n",
       "\n",
       "    .dataframe tbody tr th {\n",
       "        vertical-align: top;\n",
       "    }\n",
       "\n",
       "    .dataframe thead th {\n",
       "        text-align: right;\n",
       "    }\n",
       "</style>\n",
       "<table border=\"1\" class=\"dataframe\">\n",
       "  <thead>\n",
       "    <tr style=\"text-align: right;\">\n",
       "      <th></th>\n",
       "      <th>P</th>\n",
       "      <th>H</th>\n",
       "      <th>O</th>\n",
       "      <th>Q</th>\n",
       "      <th>R</th>\n",
       "      <th>S</th>\n",
       "      <th>X</th>\n",
       "      <th>Y</th>\n",
       "      <th>Z</th>\n",
       "    </tr>\n",
       "  </thead>\n",
       "  <tbody>\n",
       "    <tr>\n",
       "      <th>A</th>\n",
       "      <td>1</td>\n",
       "      <td>2</td>\n",
       "      <td>3</td>\n",
       "      <td>4</td>\n",
       "      <td>5</td>\n",
       "      <td>6</td>\n",
       "      <td>7</td>\n",
       "      <td>8</td>\n",
       "      <td>9</td>\n",
       "    </tr>\n",
       "    <tr>\n",
       "      <th>B</th>\n",
       "      <td>4</td>\n",
       "      <td>5</td>\n",
       "      <td>6</td>\n",
       "      <td>7</td>\n",
       "      <td>8</td>\n",
       "      <td>9</td>\n",
       "      <td>10</td>\n",
       "      <td>11</td>\n",
       "      <td>12</td>\n",
       "    </tr>\n",
       "    <tr>\n",
       "      <th>C</th>\n",
       "      <td>4</td>\n",
       "      <td>5</td>\n",
       "      <td>6</td>\n",
       "      <td>7</td>\n",
       "      <td>8</td>\n",
       "      <td>9</td>\n",
       "      <td>10</td>\n",
       "      <td>11</td>\n",
       "      <td>12</td>\n",
       "    </tr>\n",
       "    <tr>\n",
       "      <th>D</th>\n",
       "      <td>6</td>\n",
       "      <td>10</td>\n",
       "      <td>11</td>\n",
       "      <td>12</td>\n",
       "      <td>13</td>\n",
       "      <td>14</td>\n",
       "      <td>15</td>\n",
       "      <td>12</td>\n",
       "      <td>16</td>\n",
       "    </tr>\n",
       "    <tr>\n",
       "      <th>E</th>\n",
       "      <td>2</td>\n",
       "      <td>3</td>\n",
       "      <td>2</td>\n",
       "      <td>4</td>\n",
       "      <td>2</td>\n",
       "      <td>3</td>\n",
       "      <td>6</td>\n",
       "      <td>7</td>\n",
       "      <td>8</td>\n",
       "    </tr>\n",
       "    <tr>\n",
       "      <th>F</th>\n",
       "      <td>1</td>\n",
       "      <td>2</td>\n",
       "      <td>3</td>\n",
       "      <td>5</td>\n",
       "      <td>6</td>\n",
       "      <td>7</td>\n",
       "      <td>8</td>\n",
       "      <td>9</td>\n",
       "      <td>10</td>\n",
       "    </tr>\n",
       "    <tr>\n",
       "      <th>G</th>\n",
       "      <td>2</td>\n",
       "      <td>4</td>\n",
       "      <td>3</td>\n",
       "      <td>5</td>\n",
       "      <td>6</td>\n",
       "      <td>7</td>\n",
       "      <td>8</td>\n",
       "      <td>9</td>\n",
       "      <td>8</td>\n",
       "    </tr>\n",
       "    <tr>\n",
       "      <th>H</th>\n",
       "      <td>1</td>\n",
       "      <td>2</td>\n",
       "      <td>3</td>\n",
       "      <td>4</td>\n",
       "      <td>5</td>\n",
       "      <td>6</td>\n",
       "      <td>7</td>\n",
       "      <td>8</td>\n",
       "      <td>9</td>\n",
       "    </tr>\n",
       "    <tr>\n",
       "      <th>I</th>\n",
       "      <td>1</td>\n",
       "      <td>2</td>\n",
       "      <td>3</td>\n",
       "      <td>4</td>\n",
       "      <td>5</td>\n",
       "      <td>6</td>\n",
       "      <td>7</td>\n",
       "      <td>8</td>\n",
       "      <td>9</td>\n",
       "    </tr>\n",
       "  </tbody>\n",
       "</table>\n",
       "</div>"
      ],
      "text/plain": [
       "   P   H   O   Q   R   S   X   Y   Z\n",
       "A  1   2   3   4   5   6   7   8   9\n",
       "B  4   5   6   7   8   9  10  11  12\n",
       "C  4   5   6   7   8   9  10  11  12\n",
       "D  6  10  11  12  13  14  15  12  16\n",
       "E  2   3   2   4   2   3   6   7   8\n",
       "F  1   2   3   5   6   7   8   9  10\n",
       "G  2   4   3   5   6   7   8   9   8\n",
       "H  1   2   3   4   5   6   7   8   9\n",
       "I  1   2   3   4   5   6   7   8   9"
      ]
     },
     "execution_count": 50,
     "metadata": {},
     "output_type": "execute_result"
    }
   ],
   "source": [
    "Tittle = print('accounting Department')\n",
    "Rows = ['A','B','C','D','E','F','G','H','I']\n",
    "Columns = ['P','H','O','Q','R','S','X','Y','Z']\n",
    "dataframe_1 = pd.DataFrame(frames,Rows,Columns)\n",
    "dataframe_1"
   ]
  },
  {
   "cell_type": "code",
   "execution_count": 7,
   "id": "cc4ea542",
   "metadata": {},
   "outputs": [
    {
     "data": {
      "text/html": [
       "<div>\n",
       "<style scoped>\n",
       "    .dataframe tbody tr th:only-of-type {\n",
       "        vertical-align: middle;\n",
       "    }\n",
       "\n",
       "    .dataframe tbody tr th {\n",
       "        vertical-align: top;\n",
       "    }\n",
       "\n",
       "    .dataframe thead th {\n",
       "        text-align: right;\n",
       "    }\n",
       "</style>\n",
       "<table border=\"1\" class=\"dataframe\">\n",
       "  <thead>\n",
       "    <tr style=\"text-align: right;\">\n",
       "      <th></th>\n",
       "      <th>Grade</th>\n",
       "      <th>Price</th>\n",
       "      <th>City</th>\n",
       "    </tr>\n",
       "  </thead>\n",
       "  <tbody>\n",
       "    <tr>\n",
       "      <th>0</th>\n",
       "      <td>A</td>\n",
       "      <td>125</td>\n",
       "      <td>Nrbi</td>\n",
       "    </tr>\n",
       "    <tr>\n",
       "      <th>1</th>\n",
       "      <td>A</td>\n",
       "      <td>236</td>\n",
       "      <td>Nyeri</td>\n",
       "    </tr>\n",
       "    <tr>\n",
       "      <th>2</th>\n",
       "      <td>B</td>\n",
       "      <td>300</td>\n",
       "      <td>Kara</td>\n",
       "    </tr>\n",
       "    <tr>\n",
       "      <th>3</th>\n",
       "      <td>C</td>\n",
       "      <td>472</td>\n",
       "      <td>Msa</td>\n",
       "    </tr>\n",
       "    <tr>\n",
       "      <th>4</th>\n",
       "      <td>C</td>\n",
       "      <td>600</td>\n",
       "      <td>Meru</td>\n",
       "    </tr>\n",
       "  </tbody>\n",
       "</table>\n",
       "</div>"
      ],
      "text/plain": [
       "  Grade  Price   City\n",
       "0     A    125   Nrbi\n",
       "1     A    236  Nyeri\n",
       "2     B    300   Kara\n",
       "3     C    472    Msa\n",
       "4     C    600   Meru"
      ]
     },
     "execution_count": 7,
     "metadata": {},
     "output_type": "execute_result"
    }
   ],
   "source": [
    "dictionary_2 = {'Grade':['A','A','B','C','C'],\n",
    "               'Price':[125,236,300,472,600],\n",
    "               'City':['Nrbi','Nyeri','Kara','Msa','Meru']}\n",
    "dictionary_2\n",
    "dataframe_2 = pd.DataFrame(dictionary_2)\n",
    "dataframe_2"
   ]
  },
  {
   "cell_type": "code",
   "execution_count": 13,
   "id": "c82cce08",
   "metadata": {},
   "outputs": [
    {
     "data": {
      "text/plain": [
       "array([3, 4, 5, 6])"
      ]
     },
     "execution_count": 13,
     "metadata": {},
     "output_type": "execute_result"
    }
   ],
   "source": [
    "import pandas as pd\n",
    "import numpy as np\n",
    "array_3 = np.arange(30)\n",
    "array_3\n",
    "array_4 = np.arange(3,7)\n",
    "array_4"
   ]
  },
  {
   "cell_type": "code",
   "execution_count": 17,
   "id": "3088b7de",
   "metadata": {},
   "outputs": [
    {
     "data": {
      "text/plain": [
       "array([  1.,   2.,   3.,   4.,   5.,   6.,   7.,   8.,   9.,  10.,  11.,\n",
       "        12.,  13.,  14.,  15.,  16.,  17.,  18.,  19.,  20.,  21.,  22.,\n",
       "        23.,  24.,  25.,  26.,  27.,  28.,  29.,  30.,  31.,  32.,  33.,\n",
       "        34.,  35.,  36.,  37.,  38.,  39.,  40.,  41.,  42.,  43.,  44.,\n",
       "        45.,  46.,  47.,  48.,  49.,  50.,  51.,  52.,  53.,  54.,  55.,\n",
       "        56.,  57.,  58.,  59.,  60.,  61.,  62.,  63.,  64.,  65.,  66.,\n",
       "        67.,  68.,  69.,  70.,  71.,  72.,  73.,  74.,  75.,  76.,  77.,\n",
       "        78.,  79.,  80.,  81.,  82.,  83.,  84.,  85.,  86.,  87.,  88.,\n",
       "        89.,  90.,  91.,  92.,  93.,  94.,  95.,  96.,  97.,  98.,  99.,\n",
       "       100.])"
      ]
     },
     "execution_count": 17,
     "metadata": {},
     "output_type": "execute_result"
    }
   ],
   "source": [
    "np.arange(1,10,2)\n",
    "np.linspace(1,100,100)"
   ]
  },
  {
   "cell_type": "code",
   "execution_count": 27,
   "id": "2dcf6d54",
   "metadata": {},
   "outputs": [
    {
     "data": {
      "text/plain": [
       "array([[ 9, 44,  4, 29, 47],\n",
       "       [49,  5, 79, 92,  4],\n",
       "       [40, 79, 60, 57, 63],\n",
       "       [94, 88,  2, 92, 92]])"
      ]
     },
     "execution_count": 27,
     "metadata": {},
     "output_type": "execute_result"
    }
   ],
   "source": [
    "np.random.rand(10)\n",
    "np.random.randint(10,20)\n",
    "np.random.randint(1,100,(4,5))"
   ]
  },
  {
   "cell_type": "code",
   "execution_count": 1,
   "id": "04e7bebb",
   "metadata": {},
   "outputs": [
    {
     "ename": "ModuleNotFoundError",
     "evalue": "No module named 'pandas_DataReader'",
     "output_type": "error",
     "traceback": [
      "\u001b[1;31m---------------------------------------------------------------------------\u001b[0m",
      "\u001b[1;31mModuleNotFoundError\u001b[0m                       Traceback (most recent call last)",
      "Cell \u001b[1;32mIn[1], line 2\u001b[0m\n\u001b[0;32m      1\u001b[0m \u001b[38;5;28;01mimport\u001b[39;00m \u001b[38;5;21;01mpandas\u001b[39;00m \u001b[38;5;28;01mas\u001b[39;00m \u001b[38;5;21;01mpd\u001b[39;00m\n\u001b[1;32m----> 2\u001b[0m \u001b[38;5;28;01mimport\u001b[39;00m \u001b[38;5;21;01mpandas_DataReader\u001b[39;00m\u001b[38;5;21;01m.\u001b[39;00m\u001b[38;5;21;01mdata\u001b[39;00m \u001b[38;5;28;01mas\u001b[39;00m \u001b[38;5;21;01mpds\u001b[39;00m\n",
      "\u001b[1;31mModuleNotFoundError\u001b[0m: No module named 'pandas_DataReader'"
     ]
    }
   ],
   "source": [
    "import pandas as pd\n",
    "import pandas_DataReader.data as pds"
   ]
  },
  {
   "cell_type": "code",
   "execution_count": 7,
   "id": "e8a5ad65",
   "metadata": {},
   "outputs": [
    {
     "ename": "NameError",
     "evalue": "name 'pdr' is not defined",
     "output_type": "error",
     "traceback": [
      "\u001b[1;31m---------------------------------------------------------------------------\u001b[0m",
      "\u001b[1;31mNameError\u001b[0m                                 Traceback (most recent call last)",
      "Cell \u001b[1;32mIn[7], line 1\u001b[0m\n\u001b[1;32m----> 1\u001b[0m \u001b[43mpdr\u001b[49m\u001b[38;5;241m.\u001b[39mDataReader(\u001b[38;5;124m'\u001b[39m\u001b[38;5;124m005930\u001b[39m\u001b[38;5;124m'\u001b[39m,\u001b[38;5;124m'\u001b[39m\u001b[38;5;124mnaver\u001b[39m\u001b[38;5;124m'\u001b[39m,\u001b[38;5;124m'\u001b[39m\u001b[38;5;124m2022-01-01\u001b[39m\u001b[38;5;124m'\u001b[39m,\u001b[38;5;124m'\u001b[39m\u001b[38;5;124m2022-01-31\u001b[39m\u001b[38;5;124m'\u001b[39m)\n",
      "\u001b[1;31mNameError\u001b[0m: name 'pdr' is not defined"
     ]
    }
   ],
   "source": [
    "pdr.DataReader('005930','naver','2022-01-01','2022-01-31')"
   ]
  },
  {
   "cell_type": "code",
   "execution_count": null,
   "id": "62b2360b",
   "metadata": {},
   "outputs": [],
   "source": [
    "conda install -c anaconda pandas-datareader"
   ]
  }
 ],
 "metadata": {
  "kernelspec": {
   "display_name": "Python 3 (ipykernel)",
   "language": "python",
   "name": "python3"
  },
  "language_info": {
   "codemirror_mode": {
    "name": "ipython",
    "version": 3
   },
   "file_extension": ".py",
   "mimetype": "text/x-python",
   "name": "python",
   "nbconvert_exporter": "python",
   "pygments_lexer": "ipython3",
   "version": "3.10.9"
  }
 },
 "nbformat": 4,
 "nbformat_minor": 5
}
